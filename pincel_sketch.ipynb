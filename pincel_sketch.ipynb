{
 "cells": [
  {
   "cell_type": "code",
   "execution_count": 1,
   "metadata": {},
   "outputs": [],
   "source": [
    "                                            ### The PuZZle in a Mug ###\n",
    "                                       ## By Anderson Canteli (Aiolia22) ##\n",
    "\n",
    "        \n",
    "### Description \n",
    "# This simple script transforms an image into a type of pencil sketch. There's still a lot to improve, but it works well\n",
    "\n",
    "# importing sugar, spice, and everything nice =D\n",
    "import cv2 # required to deal with images\n",
    "import os # required to deal with the directories"
   ]
  },
  {
   "cell_type": "code",
   "execution_count": 2,
   "metadata": {},
   "outputs": [],
   "source": [
    "# the name of the image\n",
    "image_name = \"andre_matos.jpg\"\n",
    "\n",
    "# get current folder\n",
    "folder = os.getcwd()\n",
    "\n",
    "# get the currently image path\n",
    "img_location = os.path.join(folder, image_name)\n",
    "img_location\n",
    "\n",
    "# opening the image\n",
    "try:\n",
    "    img = cv2.imread(img_location)\n",
    "except cv2.error as e:\n",
    "    print(e)\n",
    "    \n",
    "# transforming the image in black and white    \n",
    "gray_img = cv2.cvtColor(img, cv2.COLOR_BGR2GRAY)    \n",
    "\n",
    "# reversing the image\n",
    "rev_gray_img = 255 - gray_img\n",
    "\n",
    "# applying blur\n",
    "blur_img = cv2.GaussianBlur(rev_gray_img, (21,21), 0)\n",
    "\n",
    "# reversing the blured image\n",
    "invertert_blur = 255 - blur_img\n",
    "\n",
    "# comparing the black and white image with the inverted image to simulate a type of sketch\n",
    "pencil_sketch = cv2.divide(gray_img, invertert_blur, scale=255.0)\n",
    "\n",
    "# showing the pencil sketch\n",
    "cv2.imshow(\"pencil sketch\", pencil_sketch)\n",
    "\n",
    "cv2.waitKey(0) # waiting to press \"esc\" to close the image\n",
    "\n",
    "# saving the file on the same directory\n",
    "save_img = image_name[:-4] + \"_pencil_sketch\" +image_name[-4:]\n",
    "pencil_save_location = os.path.join(folder, save_img)\n",
    "\n",
    "cv2.imwrite(pencil_save_location, pencil_sketch)\n",
    "\n",
    "cv2.destroyAllWindows()"
   ]
  },
  {
   "cell_type": "code",
   "execution_count": null,
   "metadata": {},
   "outputs": [],
   "source": []
  }
 ],
 "metadata": {
  "kernelspec": {
   "display_name": "sonic",
   "language": "python",
   "name": "sonic"
  },
  "language_info": {
   "codemirror_mode": {
    "name": "ipython",
    "version": 3
   },
   "file_extension": ".py",
   "mimetype": "text/x-python",
   "name": "python",
   "nbconvert_exporter": "python",
   "pygments_lexer": "ipython3",
   "version": "3.7.3"
  }
 },
 "nbformat": 4,
 "nbformat_minor": 4
}
